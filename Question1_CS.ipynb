{
 "cells": [
  {
   "cell_type": "code",
   "execution_count": 47,
   "metadata": {},
   "outputs": [],
   "source": [
    "import scipy.special as sc                              ###importing libraries which helps in estimation \n",
    "import math\n",
    "from matplotlib import pyplot as plt\n",
    "from scipy.stats import uniform\n"
   ]
  },
  {
   "cell_type": "code",
   "execution_count": 48,
   "metadata": {},
   "outputs": [],
   "source": [
    "### calculating P(X=0,X=1.....X=10)\n",
    "\n",
    "\n",
    "###Defines a function to calculate how many combinations of r can made out of n \n",
    "def nCr(n,r):                                                      \n",
    "    return math.factorial(n) // math.factorial(r) // math.factorial(n-r)\n",
    "###To create a probability vector out of random samples \n",
    "def prob(x):\n",
    "    arr=[]\n",
    "    for a in x:\n",
    "        arr2=[]\n",
    "        for i in range(11):\n",
    "            arr2.append(nCr(10,i)*(a**i)*((1-a)**(10-i)))\n",
    "        arr.append(arr2)\n",
    "            \n",
    "    return arr\n",
    "###This functions returns mean and variance of the probability vector\n",
    "def Cal_mean(prob):\n",
    "    result=0.0\n",
    "    for a in prob:\n",
    "        for i in range(11):\n",
    "            result+=math.exp(i)*a[i]\n",
    "    return result/len(prob)\n",
    "def Cal_Var(prob):  \n",
    "    result2 = 0.0\n",
    "    for a in prob :\n",
    "        for i in range(11):\n",
    "            result2 += math.exp(i)*math.exp(i)*a[i] \n",
    "    return result2/len(prob) - Cal_mean(prob)*Cal_mean(prob)"
   ]
  },
  {
   "cell_type": "code",
   "execution_count": 49,
   "metadata": {},
   "outputs": [],
   "source": [
    "mean = 0.0                     ##defines two variable to store mean and sigma with zero\n",
    "var = 0.0\n",
    "for i in range(10):            ##RUn in loop to get an average of resulting outcome\n",
    "    \n",
    "    u=uniform.rvs(size=1000)               ##create a random variable with uniform distribution\n",
    "    x=sc.betaincinv(4.3,7.8,u)       ##To generate a sample vector from Beta(4.3,7.8) distribution\n",
    "    mean+=Cal_mean(prob(x))  \n",
    "    var += Cal_Var(prob(x))\n",
    "\n",
    "mean = mean/10                  ##averaging the resulting expectation to reduce the randomness from the outcome\n",
    "var = var/10 "
   ]
  },
  {
   "cell_type": "code",
   "execution_count": 50,
   "metadata": {},
   "outputs": [
    {
     "name": "stdout",
     "output_type": "stream",
     "text": [
      "269.9769946966144\n",
      "1079.7062071861676\n"
     ]
    }
   ],
   "source": [
    "print(mean)                  ##Print Expectation of mean and standard error \n",
    "print(math.sqrt(var))"
   ]
  }
 ],
 "metadata": {
  "celltoolbar": "Tags",
  "kernelspec": {
   "display_name": "Python 3",
   "language": "python",
   "name": "python3"
  },
  "language_info": {
   "codemirror_mode": {
    "name": "ipython",
    "version": 3
   },
   "file_extension": ".py",
   "mimetype": "text/x-python",
   "name": "python",
   "nbconvert_exporter": "python",
   "pygments_lexer": "ipython3",
   "version": "3.7.4"
  }
 },
 "nbformat": 4,
 "nbformat_minor": 2
}
