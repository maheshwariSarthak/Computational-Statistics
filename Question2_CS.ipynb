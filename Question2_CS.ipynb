{
 "cells": [
  {
   "cell_type": "code",
   "execution_count": 9,
   "metadata": {},
   "outputs": [],
   "source": [
    "import numpy as np"
   ]
  },
  {
   "cell_type": "code",
   "execution_count": 13,
   "metadata": {},
   "outputs": [],
   "source": [
    "### Given NULL Hypothesis H0: T = 200\n",
    "### Alternative Hypothesis H1: T < 200, where T is average life of bulb\n",
    "n = 200\n",
    "num_bulb = 20000                                     ### taking very large samples to reduce randomness in outcome\n",
    "L = 1/200                                            ### Avearge time = 200\n",
    "Exp_mean = []                                        ### expected mean value of bulb life\n",
    "alpha = 0.05\n",
    "for i in range(num_bulb):\n",
    "    Exp_mean.append(np.mean(np.random.exponential(1/L, n)))"
   ]
  },
  {
   "cell_type": "code",
   "execution_count": 14,
   "metadata": {},
   "outputs": [],
   "source": [
    "cnt = 0\n",
    "for i in range(num_bulb):\n",
    "    if Exp_mean[i] > 250 :\n",
    "        cnt = cnt+1"
   ]
  },
  {
   "cell_type": "code",
   "execution_count": 15,
   "metadata": {},
   "outputs": [
    {
     "name": "stdout",
     "output_type": "stream",
     "text": [
      "0.065\n"
     ]
    }
   ],
   "source": [
    "conservativeness = (cnt/num_bulb)*100\n",
    "power = (1-(cnt/num_bulb))*100"
   ]
  },
  {
   "cell_type": "code",
   "execution_count": 17,
   "metadata": {},
   "outputs": [
    {
     "name": "stdout",
     "output_type": "stream",
     "text": [
      "0.065\n",
      "99.935\n"
     ]
    }
   ],
   "source": [
    "print(conservativeness)\n",
    "print(power)"
   ]
  },
  {
   "cell_type": "code",
   "execution_count": 18,
   "metadata": {},
   "outputs": [
    {
     "name": "stdout",
     "output_type": "stream",
     "text": [
      "Test is not conservative. We failed to reject null\n"
     ]
    }
   ],
   "source": [
    "if conservativeness > alpha:\n",
    "    print(\"Test is not conservative. We failed to reject null\")\n",
    "else :\n",
    "    print(\"Test is conservative. The Null is Rejected\")"
   ]
  },
  {
   "cell_type": "code",
   "execution_count": null,
   "metadata": {},
   "outputs": [],
   "source": [
    "# For very large samples, our test is conservative and power of test is very high for given alpha\n",
    "# For small sample set, our test become non-conservative\n",
    "# so we should go for large samples as it tests for more bulbs and gives precise estimation.\n",
    "# from above test we can conclude that average life of bulbs is less than 200 hrs."
   ]
  },
  {
   "cell_type": "code",
   "execution_count": null,
   "metadata": {},
   "outputs": [],
   "source": []
  }
 ],
 "metadata": {
  "kernelspec": {
   "display_name": "Python 3",
   "language": "python",
   "name": "python3"
  },
  "language_info": {
   "codemirror_mode": {
    "name": "ipython",
    "version": 3
   },
   "file_extension": ".py",
   "mimetype": "text/x-python",
   "name": "python",
   "nbconvert_exporter": "python",
   "pygments_lexer": "ipython3",
   "version": "3.7.4"
  }
 },
 "nbformat": 4,
 "nbformat_minor": 2
}
